{
 "cells": [
  {
   "cell_type": "code",
   "execution_count": 1,
   "metadata": {},
   "outputs": [
    {
     "name": "stderr",
     "output_type": "stream",
     "text": [
      "/cherry/projects/rag_llama_index/ragenv3/lib/python3.12/site-packages/tqdm/auto.py:21: TqdmWarning: IProgress not found. Please update jupyter and ipywidgets. See https://ipywidgets.readthedocs.io/en/stable/user_install.html\n",
      "  from .autonotebook import tqdm as notebook_tqdm\n"
     ]
    }
   ],
   "source": [
    "from llama_index.core import (\n",
    "    SimpleDirectoryReader,\n",
    "    VectorStoreIndex,\n",
    "    Settings,\n",
    ")\n",
    "from llama_index.llms.ollama import Ollama\n",
    "from llama_index.core.node_parser import SimpleNodeParser\n",
    "from llama_index.embeddings.huggingface import HuggingFaceEmbedding\n",
    "\n",
    "\n",
    "from llama_index.core.evaluation import (\n",
    "    generate_question_context_pairs,\n",
    ")\n",
    "from llama_index.core.evaluation import RetrieverEvaluator\n",
    "\n",
    "import pandas as pd\n",
    "import time\n",
    "import nest_asyncio\n",
    "\n",
    "nest_asyncio.apply()"
   ]
  },
  {
   "cell_type": "code",
   "execution_count": 8,
   "metadata": {},
   "outputs": [],
   "source": [
    "llm = Ollama(model=\"llama3.1\", request_timeout=300.0)\n",
    "Settings.llm = llm"
   ]
  },
  {
   "cell_type": "code",
   "execution_count": 9,
   "metadata": {},
   "outputs": [],
   "source": [
    "documents = SimpleDirectoryReader(input_files=[\"gemma.pdf\"]).load_data()"
   ]
  },
  {
   "cell_type": "code",
   "execution_count": 10,
   "metadata": {},
   "outputs": [],
   "source": [
    "node_parser = SimpleNodeParser.from_defaults(chunk_size=512)\n",
    "nodes = node_parser.get_nodes_from_documents(documents)"
   ]
  },
  {
   "cell_type": "code",
   "execution_count": 5,
   "metadata": {},
   "outputs": [],
   "source": [
    "EMBEDDINGS = {\n",
    "    \"all-MiniLM\":HuggingFaceEmbedding(model_name='sentence-transformers/all-MiniLM-L6-v2'),\n",
    "    \"gte-large\": HuggingFaceEmbedding(model_name='Alibaba-NLP/gte-large-en-v1.5',trust_remote_code=True),\n",
    "    \"bge-large\": HuggingFaceEmbedding(model_name='BAAI/bge-large-en'), \n",
    "    \"bge-small\": HuggingFaceEmbedding(model_name='BAAI/bge-small-en')\n",
    "}"
   ]
  },
  {
   "cell_type": "code",
   "execution_count": 11,
   "metadata": {},
   "outputs": [],
   "source": [
    "def display_results(embedding_name, eval_results):\n",
    "    \"\"\"Display results from evaluate.\"\"\"\n",
    "\n",
    "    metric_dicts = []\n",
    "    for eval_result in eval_results:\n",
    "        metric_dict = eval_result.metric_vals_dict\n",
    "        metric_dicts.append(metric_dict)\n",
    "    \n",
    "    full_df = pd.DataFrame(metric_dicts)\n",
    "\n",
    "    hit_rate = full_df[\"hit_rate\"].mean()\n",
    "    mrr = full_df[\"mrr\"].mean()\n",
    "\n",
    "    metric_df = pd.DataFrame(\n",
    "        {\"Embedding\": [embedding_name],\"hit_rate\": [hit_rate], \"mrr\": [mrr]}\n",
    "    )\n",
    "\n",
    "    return metric_df"
   ]
  },
  {
   "cell_type": "code",
   "execution_count": 12,
   "metadata": {},
   "outputs": [
    {
     "name": "stderr",
     "output_type": "stream",
     "text": [
      "100%|██████████| 54/54 [27:56<00:00, 31.05s/it]\n"
     ]
    }
   ],
   "source": [
    "qa_dataset = generate_question_context_pairs(\n",
    "    nodes,\n",
    "    llm=llm,\n",
    "    num_questions_per_chunk=1,\n",
    "    qa_generate_prompt_tmpl = \"\"\"\\\n",
    "\n",
    "    You are an expert in making questions from given text which are research level based. Your task is to setup \\\n",
    "    {num_questions_per_chunk} question. The questions should be diverse in nature \\\n",
    "    across the document. The questions should not contain options, not start with Q1/ Q2. \\\n",
    "    Restrict the questions to the context information provided. Respond only with questions.\n",
    "\n",
    "    Context information is below.\n",
    "\n",
    "    ---------------------\n",
    "    {context_str}\n",
    "    ---------------------\n",
    "\n",
    "    Given the context information and not prior knowledge.\n",
    "    generate only questions based on the below query.\n",
    "\n",
    "    \"\"\"\n",
    "    )"
   ]
  },
  {
   "cell_type": "code",
   "execution_count": 13,
   "metadata": {},
   "outputs": [
    {
     "data": {
      "text/html": [
       "<div>\n",
       "<style scoped>\n",
       "    .dataframe tbody tr th:only-of-type {\n",
       "        vertical-align: middle;\n",
       "    }\n",
       "\n",
       "    .dataframe tbody tr th {\n",
       "        vertical-align: top;\n",
       "    }\n",
       "\n",
       "    .dataframe thead th {\n",
       "        text-align: right;\n",
       "    }\n",
       "</style>\n",
       "<table border=\"1\" class=\"dataframe\">\n",
       "  <thead>\n",
       "    <tr style=\"text-align: right;\">\n",
       "      <th></th>\n",
       "      <th>Embedding</th>\n",
       "      <th>hit_rate</th>\n",
       "      <th>mrr</th>\n",
       "      <th>total_time</th>\n",
       "    </tr>\n",
       "  </thead>\n",
       "  <tbody>\n",
       "    <tr>\n",
       "      <th>0</th>\n",
       "      <td>all-MiniLM</td>\n",
       "      <td>0.629630</td>\n",
       "      <td>0.435185</td>\n",
       "      <td>0.403985</td>\n",
       "    </tr>\n",
       "    <tr>\n",
       "      <th>1</th>\n",
       "      <td>gte-large</td>\n",
       "      <td>0.740741</td>\n",
       "      <td>0.553086</td>\n",
       "      <td>1.162090</td>\n",
       "    </tr>\n",
       "    <tr>\n",
       "      <th>2</th>\n",
       "      <td>bge-large</td>\n",
       "      <td>0.703704</td>\n",
       "      <td>0.550617</td>\n",
       "      <td>1.073932</td>\n",
       "    </tr>\n",
       "    <tr>\n",
       "      <th>3</th>\n",
       "      <td>bge-small</td>\n",
       "      <td>0.740741</td>\n",
       "      <td>0.581790</td>\n",
       "      <td>0.566546</td>\n",
       "    </tr>\n",
       "  </tbody>\n",
       "</table>\n",
       "</div>"
      ],
      "text/plain": [
       "    Embedding  hit_rate       mrr  total_time\n",
       "0  all-MiniLM  0.629630  0.435185    0.403985\n",
       "1   gte-large  0.740741  0.553086    1.162090\n",
       "2   bge-large  0.703704  0.550617    1.073932\n",
       "3   bge-small  0.740741  0.581790    0.566546"
      ]
     },
     "execution_count": 13,
     "metadata": {},
     "output_type": "execute_result"
    }
   ],
   "source": [
    "results_df = pd.DataFrame()\n",
    "\n",
    "for embed_name, embed_model in EMBEDDINGS.items():\n",
    "    Settings.embed_model = embed_model\n",
    "    vector_index = VectorStoreIndex(nodes)\n",
    "    vector_retriever = vector_index.as_retriever(similarity_top_k=5)\n",
    "    retriever_evaluator = RetrieverEvaluator.from_metric_names(\n",
    "            [\"mrr\", \"hit_rate\"], retriever=vector_retriever\n",
    "        )\n",
    "    start_time = time.time()\n",
    "    eval_results = await retriever_evaluator.aevaluate_dataset(qa_dataset)\n",
    "    elapsed_time = time.time() - start_time\n",
    "\n",
    "    current_df = display_results(embed_name,eval_results)\n",
    "    current_df[\"total_time\"] = elapsed_time\n",
    "    results_df = pd.concat([results_df, current_df], ignore_index=True)\n",
    "\n",
    "results_df"
   ]
  },
  {
   "cell_type": "code",
   "execution_count": null,
   "metadata": {},
   "outputs": [],
   "source": []
  }
 ],
 "metadata": {
  "kernelspec": {
   "display_name": "ragenv3",
   "language": "python",
   "name": "python3"
  },
  "language_info": {
   "codemirror_mode": {
    "name": "ipython",
    "version": 3
   },
   "file_extension": ".py",
   "mimetype": "text/x-python",
   "name": "python",
   "nbconvert_exporter": "python",
   "pygments_lexer": "ipython3",
   "version": "3.12.3"
  }
 },
 "nbformat": 4,
 "nbformat_minor": 2
}
